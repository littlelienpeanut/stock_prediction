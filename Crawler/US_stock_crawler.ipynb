{
 "cells": [
  {
   "cell_type": "code",
   "execution_count": 1,
   "metadata": {},
   "outputs": [],
   "source": [
    "import requests\n",
    "import glob\n",
    "import io\n",
    "import pandas as pd\n",
    "import numpy as np\n",
    "import datetime\n",
    "import time\n",
    "import os"
   ]
  },
  {
   "cell_type": "code",
   "execution_count": 2,
   "metadata": {},
   "outputs": [
    {
     "name": "stdout",
     "output_type": "stream",
     "text": [
      "^GSPC\n",
      "^DJI\n",
      "^IXIC\n",
      "^NYA\n",
      "^XAX\n",
      "^BUK100P\n",
      "^RUT\n",
      "^VIX\n",
      "^FTSE\n",
      "^GDAXI\n",
      "^FCHI\n",
      "^STOXX50E\n",
      "^N100\n",
      "^BFX\n",
      "IMOEX.ME\n",
      "^N225\n",
      "^HSI\n",
      "000001.SS\n",
      "^STI\n",
      "^AXJO\n",
      "^AORD\n",
      "^BSESN\n",
      "^JKSE\n",
      "^KLSE\n",
      "^NZ50\n",
      "^KS11\n",
      "^TWII\n",
      "^GSPTSE\n",
      "^BVSP\n",
      "^MXX\n",
      "^IPSA\n",
      "^MERV\n",
      "^TA125.TA\n",
      "^CASE30\n",
      "^JN0U.JO\n"
     ]
    }
   ],
   "source": [
    "def crawl_price(stock_id):\n",
    "    now = int(time.time())+86400\n",
    "    url = \"https://query1.finance.yahoo.com/v7/finance/download/\" + stock_id + \"?period1=0&period2=\" + str(now) + \"&interval=1d&events=history&crumb=hP2rOschxO0\"\n",
    "\n",
    "    response = requests.post(url)\n",
    "\n",
    "    f = io.StringIO(response.text)\n",
    "    df = pd.read_csv(f, index_col='Date', parse_dates=['Date'] )\n",
    "\n",
    "    return df\n",
    "\n",
    "# crawl the current world indices to get \"Symbol\" and \"Name\" of the world index\n",
    "url = \"https://finance.yahoo.com/world-indices/\"\n",
    "response = requests.get(url)\n",
    "f = io.StringIO(response.text)\n",
    "dfs = pd.read_html(f)\n",
    "world_index = dfs[0]\n",
    "\n",
    "world_index_history = {}\n",
    "for symbol, name in zip(world_index['Symbol'], world_index['Name']):\n",
    "    world_index_history[name] = crawl_price(symbol)\n",
    "    print(symbol)\n",
    "    time.sleep(5)"
   ]
  },
  {
   "cell_type": "code",
   "execution_count": 3,
   "metadata": {},
   "outputs": [
    {
     "name": "stdout",
     "output_type": "stream",
     "text": [
      "('S&P 500', '^GSPC')\n",
      "('Dow 30', '^DJI')\n",
      "('Nasdaq', '^IXIC')\n",
      "('NYSE COMPOSITE (DJ)', '^NYA')\n",
      "('NYSE AMEX COMPOSITE INDEX', '^XAX')\n",
      "('Cboe UK 100 Price Return', '^BUK100P')\n",
      "('Russell 2000', '^RUT')\n",
      "('Vix', '^VIX')\n",
      "('FTSE 100', '^FTSE')\n",
      "('DAX PERFORMANCE-INDEX', '^GDAXI')\n",
      "('CAC 40', '^FCHI')\n",
      "('ESTX 50 PR.EUR', '^STOXX50E')\n",
      "('EURONEXT 100', '^N100')\n",
      "('BEL 20', '^BFX')\n",
      "('MOEX Russia Index', 'IMOEX.ME')\n",
      "('Nikkei 225', '^N225')\n",
      "('HANG SENG INDEX', '^HSI')\n",
      "('SSE Composite Index', '000001.SS')\n",
      "('STI Index', '^STI')\n",
      "('S&P/ASX 200', '^AXJO')\n",
      "('ALL ORDINARIES', '^AORD')\n",
      "('S&P BSE SENSEX', '^BSESN')\n",
      "('Jakarta Composite Index', '^JKSE')\n",
      "('FTSE Bursa Malaysia KLCI', '^KLSE')\n",
      "('S&P/NZX 50 INDEX GROSS', '^NZ50')\n",
      "('KOSPI Composite Index', '^KS11')\n",
      "('TSEC weighted index', '^TWII')\n",
      "('S&P/TSX Composite index', '^GSPTSE')\n",
      "('IBOVESPA', '^BVSP')\n",
      "('IPC MEXICO', '^MXX')\n",
      "('IPSA SANTIAGO DE CHILE', '^IPSA')\n",
      "('MERVAL', '^MERV')\n",
      "('TA-125', '^TA125.TA')\n",
      "('EGX 30 Price Return Index', '^CASE30')\n",
      "('Top 40 USD Net TRI Index', '^JN0U.JO')\n"
     ]
    }
   ],
   "source": [
    "for name, symbol in zip(world_index['Name'], world_index['Symbol']):\n",
    "    print(name, symbol)\n",
    "    world_index_history[name].to_csv('/vincent_lien/Stock_prediction/World_index/'+symbol[symbol.find('^')+1:]+'.csv')"
   ]
  },
  {
   "cell_type": "code",
   "execution_count": null,
   "metadata": {},
   "outputs": [],
   "source": []
  }
 ],
 "metadata": {
  "kernelspec": {
   "display_name": "Python 3",
   "language": "python",
   "name": "python3"
  },
  "language_info": {
   "codemirror_mode": {
    "name": "ipython",
    "version": 2
   },
   "file_extension": ".py",
   "mimetype": "text/x-python",
   "name": "python",
   "nbconvert_exporter": "python",
   "pygments_lexer": "ipython2",
   "version": "2.7.12"
  }
 },
 "nbformat": 4,
 "nbformat_minor": 2
}
