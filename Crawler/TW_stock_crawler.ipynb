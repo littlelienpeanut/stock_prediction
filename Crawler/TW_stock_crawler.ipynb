{
 "cells": [
  {
   "cell_type": "code",
   "execution_count": 1,
   "metadata": {},
   "outputs": [],
   "source": [
    "import requests\n",
    "import glob\n",
    "from io import StringIO\n",
    "import pandas as pd\n",
    "import numpy as np\n",
    "import datetime\n",
    "import time\n",
    "import os"
   ]
  },
  {
   "cell_type": "code",
   "execution_count": 2,
   "metadata": {},
   "outputs": [
    {
     "name": "stdout",
     "output_type": "stream",
     "text": [
      "('parsing', '2019-02-15')\n",
      "fail! check the date is holiday\n",
      "('parsing', '2019-02-14')\n",
      "success!\n",
      "dataset existed\n",
      "dataset existed\n",
      "('parsing', '2019-02-11')\n",
      "success!\n",
      "('parsing', '2019-02-10')\n",
      "fail! check the date is holiday\n",
      "('parsing', '2019-02-09')\n",
      "fail! check the date is holiday\n",
      "('parsing', '2019-02-08')\n",
      "fail! check the date is holiday\n"
     ]
    }
   ],
   "source": [
    "def crawl_price(date):\n",
    "    r = requests.post('http://www.twse.com.tw/exchangeReport/MI_INDEX?response=csv&date=' + str(date).split(' ')[0].replace('-','') + '&type=ALL')\n",
    "    ret = pd.read_csv(StringIO(\"\\n\".join([i.translate({ord(c): None for c in ' '}) for i in r.text.split('\\n') if len(i.split('\",')) == 17 and i[0] != '='])), header=0)\n",
    "    ret = ret.set_index('證券代號')\n",
    "    ret['成交金額'] = ret['成交金額'].str.replace(',','')\n",
    "    ret['成交股數'] = ret['成交股數'].str.replace(',','')\n",
    "    return ret\n",
    "\n",
    "data = {}\n",
    "n_days = 10\n",
    "date = datetime.datetime.now()\n",
    "while len(data) < n_days:\n",
    "    #file name, e.g. dataset/2019/2019-01-11.csv\n",
    "    file_name = '/data/vincent_lien/Stock_prediction/dataset/' + (date.strftime(\"%Y\")) + '/' + (date.strftime(\"%Y-%m-%d\")) + '.csv'\n",
    "    if os.path.isfile(file_name) == False:\n",
    "        print('parsing', (date.strftime(\"%Y-%m-%d\")))\n",
    "        try:\n",
    "            data[(date.strftime(\"%Y-%m-%d\"))] = crawl_price(date)\n",
    "            data[(date.strftime(\"%Y-%m-%d\"))].to_csv(file_name, index=False)\n",
    "            print('success!')\n",
    "            time.sleep(5)\n",
    "\n",
    "        except:\n",
    "            print('fail! check the date is holiday')\n",
    "            time.sleep(5)\n",
    "            \n",
    "    else:\n",
    "        print('dataset existed')\n",
    "        \n",
    "    # date - 1\n",
    "    date -= datetime.timedelta(days=1)\n",
    "    n_days -= 1\n",
    "\n"
   ]
  },
  {
   "cell_type": "code",
   "execution_count": null,
   "metadata": {},
   "outputs": [],
   "source": []
  }
 ],
 "metadata": {
  "kernelspec": {
   "display_name": "Python 3",
   "language": "python",
   "name": "python3"
  },
  "language_info": {
   "codemirror_mode": {
    "name": "ipython",
    "version": 2
   },
   "file_extension": ".py",
   "mimetype": "text/x-python",
   "name": "python",
   "nbconvert_exporter": "python",
   "pygments_lexer": "ipython2",
   "version": "2.7.12"
  }
 },
 "nbformat": 4,
 "nbformat_minor": 2
}
